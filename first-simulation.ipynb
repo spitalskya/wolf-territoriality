{
 "cells": [
  {
   "cell_type": "code",
   "execution_count": 3,
   "metadata": {},
   "outputs": [],
   "source": [
    "import random\n",
    "from typing import List, Optional, Tuple"
   ]
  },
  {
   "cell_type": "code",
   "execution_count": 14,
   "metadata": {},
   "outputs": [],
   "source": [
    "class Wolf:\n",
    "        den: int\n",
    "        location: int\n",
    "        tag: str\n",
    "        location_limits: Tuple[int, int]\n",
    "        \n",
    "        def __init__(self, den: int, tag: str, limits: Tuple[int, int]) -> None:\n",
    "            self.den = den\n",
    "            self.location = den\n",
    "            self.tag = tag\n",
    "            self.location_limits = limits\n",
    "        \n",
    "        def move(self) -> int:\n",
    "            direction = random.choice([-1, 1])\n",
    "            if self.location_limits[0] <= self.location + direction <= self.location_limits[1]:\n",
    "                self.location += direction\n",
    "            return self.location\n",
    "\n",
    "        def get_location(self) -> int:\n",
    "            return self.location\n",
    "        \n",
    "        def __str__(self) -> str:\n",
    "            return self.tag"
   ]
  },
  {
   "cell_type": "code",
   "execution_count": 20,
   "metadata": {},
   "outputs": [],
   "source": [
    "class Area:\n",
    "    area: list[Optional[Wolf]]\n",
    "    wolf_A: Wolf\n",
    "    wolf_B: Wolf\n",
    "    \n",
    "    def __init__(self, size: int) -> None:\n",
    "        self.area = [None] * size\n",
    "        self.wolf_A = Wolf(random.randint(0, size - 1), 'A', (0, size - 1))\n",
    "        self.wolf_B = Wolf(random.randint(0, size - 1), 'B', (0, size - 1))\n",
    "        \n",
    "        self.area[self.wolf_A.get_location()] = self.wolf_A\n",
    "        self.area[self.wolf_B.get_location()] = self.wolf_B\n",
    "    \n",
    "    def tick(self) -> None:\n",
    "        self.area[self.wolf_A.get_location()] = None\n",
    "        self.area[self.wolf_B.get_location()] = None\n",
    "        \n",
    "        self.wolf_A.move()\n",
    "        self.wolf_B.move()\n",
    "        \n",
    "        self.area[self.wolf_A.get_location()] = self.wolf_A\n",
    "        self.area[self.wolf_B.get_location()] = self.wolf_B\n",
    "    \n",
    "    def __str__(self) -> str:\n",
    "        state: str = ''\n",
    "        for tile in self.area:\n",
    "            if tile is None:\n",
    "                state += '_'\n",
    "            else:\n",
    "                state += str(tile)\n",
    "        return state"
   ]
  },
  {
   "cell_type": "code",
   "execution_count": 74,
   "metadata": {},
   "outputs": [
    {
     "name": "stdout",
     "output_type": "stream",
     "text": [
      "____A________________________B____________________\n",
      "_____A________________________B___________________\n",
      "______A______________________B____________________\n",
      "_____A________________________B___________________\n",
      "______A________________________B__________________\n",
      "_______A______________________B___________________\n",
      "________A______________________B__________________\n",
      "_______A________________________B_________________\n",
      "______A__________________________B________________\n",
      "_______A________________________B_________________\n",
      "________A________________________B________________\n",
      "_________A________________________B_______________\n",
      "________A__________________________B______________\n",
      "_________A________________________B_______________\n",
      "________A__________________________B______________\n"
     ]
    }
   ],
   "source": [
    "area: Area = Area(50)\n",
    "\n",
    "for i in range(15):\n",
    "    area.tick()\n",
    "    print(area)"
   ]
  }
 ],
 "metadata": {
  "kernelspec": {
   "display_name": ".venv",
   "language": "python",
   "name": "python3"
  },
  "language_info": {
   "codemirror_mode": {
    "name": "ipython",
    "version": 3
   },
   "file_extension": ".py",
   "mimetype": "text/x-python",
   "name": "python",
   "nbconvert_exporter": "python",
   "pygments_lexer": "ipython3",
   "version": "3.12.0"
  }
 },
 "nbformat": 4,
 "nbformat_minor": 2
}
